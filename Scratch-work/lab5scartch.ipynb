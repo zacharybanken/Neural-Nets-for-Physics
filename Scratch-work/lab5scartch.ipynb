{
 "cells": [
  {
   "cell_type": "code",
   "execution_count": 1,
   "metadata": {},
   "outputs": [],
   "source": [
    "import torch\n",
    "import numpy as np\n",
    "import matplotlib.pyplot as plt\n",
    "import tqdm"
   ]
  },
  {
   "cell_type": "code",
   "execution_count": 2,
   "metadata": {},
   "outputs": [
    {
     "ename": "FileNotFoundError",
     "evalue": "[Errno 2] No such file or directory: 'shakespeare.txt'",
     "output_type": "error",
     "traceback": [
      "\u001b[0;31m---------------------------------------------------------------------------\u001b[0m",
      "\u001b[0;31mFileNotFoundError\u001b[0m                         Traceback (most recent call last)",
      "Cell \u001b[0;32mIn[2], line 3\u001b[0m\n\u001b[1;32m      1\u001b[0m data_size_to_train \u001b[39m=\u001b[39m \u001b[39m10_000\u001b[39m\n\u001b[0;32m----> 3\u001b[0m data \u001b[39m=\u001b[39m \u001b[39mopen\u001b[39;49m(\u001b[39m'\u001b[39;49m\u001b[39mshakespeare.txt\u001b[39;49m\u001b[39m'\u001b[39;49m, \u001b[39m'\u001b[39;49m\u001b[39mr\u001b[39;49m\u001b[39m'\u001b[39;49m)\u001b[39m.\u001b[39mread()[:data_size_to_train]\n\u001b[1;32m      4\u001b[0m characters \u001b[39m=\u001b[39m \u001b[39msorted\u001b[39m(\u001b[39mlist\u001b[39m(\u001b[39mset\u001b[39m(data)))\n\u001b[1;32m      5\u001b[0m data_size, vocab_size \u001b[39m=\u001b[39m \u001b[39mlen\u001b[39m(data), \u001b[39mlen\u001b[39m(characters)\n",
      "File \u001b[0;32m~/env/lib/python3.10/site-packages/IPython/core/interactiveshell.py:284\u001b[0m, in \u001b[0;36m_modified_open\u001b[0;34m(file, *args, **kwargs)\u001b[0m\n\u001b[1;32m    277\u001b[0m \u001b[39mif\u001b[39;00m file \u001b[39min\u001b[39;00m {\u001b[39m0\u001b[39m, \u001b[39m1\u001b[39m, \u001b[39m2\u001b[39m}:\n\u001b[1;32m    278\u001b[0m     \u001b[39mraise\u001b[39;00m \u001b[39mValueError\u001b[39;00m(\n\u001b[1;32m    279\u001b[0m         \u001b[39mf\u001b[39m\u001b[39m\"\u001b[39m\u001b[39mIPython won\u001b[39m\u001b[39m'\u001b[39m\u001b[39mt let you open fd=\u001b[39m\u001b[39m{\u001b[39;00mfile\u001b[39m}\u001b[39;00m\u001b[39m by default \u001b[39m\u001b[39m\"\u001b[39m\n\u001b[1;32m    280\u001b[0m         \u001b[39m\"\u001b[39m\u001b[39mas it is likely to crash IPython. If you know what you are doing, \u001b[39m\u001b[39m\"\u001b[39m\n\u001b[1;32m    281\u001b[0m         \u001b[39m\"\u001b[39m\u001b[39myou can use builtins\u001b[39m\u001b[39m'\u001b[39m\u001b[39m open.\u001b[39m\u001b[39m\"\u001b[39m\n\u001b[1;32m    282\u001b[0m     )\n\u001b[0;32m--> 284\u001b[0m \u001b[39mreturn\u001b[39;00m io_open(file, \u001b[39m*\u001b[39;49margs, \u001b[39m*\u001b[39;49m\u001b[39m*\u001b[39;49mkwargs)\n",
      "\u001b[0;31mFileNotFoundError\u001b[0m: [Errno 2] No such file or directory: 'shakespeare.txt'"
     ]
    }
   ],
   "source": [
    "data_size_to_train = 10_000\n",
    "\n",
    "data = open('shakespeare.txt', 'r').read()[:data_size_to_train]\n",
    "characters = sorted(list(set(data)))\n",
    "data_size, vocab_size = len(data), len(characters)\n",
    "\n",
    "print('data has %d characters, %d unique.' % (data_size, vocab_size))"
   ]
  },
  {
   "cell_type": "code",
   "execution_count": null,
   "metadata": {},
   "outputs": [],
   "source": [
    "character_to_num = {ch:i for i,ch in enumerate(characters)}\n",
    "num_to_character = {i:ch for i,ch in enumerate(characters)}"
   ]
  },
  {
   "cell_type": "code",
   "execution_count": null,
   "metadata": {},
   "outputs": [],
   "source": [
    "data = list(data)\n",
    "\n",
    "for i, ch in enumerate(data):\n",
    "    data[i] = character_to_num[ch]\n"
   ]
  },
  {
   "cell_type": "code",
   "execution_count": null,
   "metadata": {},
   "outputs": [],
   "source": [
    "class CharRNN(torch.nn.Module):\n",
    "\n",
    "    def __init__(self, num_embeddings, embedding_dim, input_size, hidden_size, \\\n",
    "                 num_layers, output_size):\n",
    "        super(CharRNN, self).__init__()\n",
    "\n",
    "        self.embedding = torch.nn.Embedding(num_embeddings, embedding_dim)\n",
    "\n",
    "        self.rnn = torch.nn.RNN(input_size, hidden_size, num_layers, nonlinearity='relu')\n",
    "\n",
    "        self.decoder = torch.nn.Linear(hidden_size, output_size)\n",
    "\n",
    "    def forward(self, input_seq, hidden_state):\n",
    "        embedding = self.embedding(input_seq)\n",
    "        output, hidden_state = self.rnn(embedding, hidden_state)\n",
    "        output = self.decoder(output)\n",
    "        return output, hidden_state.detach()"
   ]
  },
  {
   "cell_type": "code",
   "execution_count": null,
   "metadata": {},
   "outputs": [],
   "source": [
    "# Quiz question\n",
    "\n",
    "class myRNNModel(torch.nn.Module):\n",
    "\n",
    "    def __init__(self, num_embeddings, embedding_dim, input_size, hidden_size, \\\n",
    "                 num_layers, output_size):\n",
    "        super(myRNNModel, self).__init__()\n",
    "\n",
    "        self.embedding = torch.nn.Embedding(num_embeddings, embedding_dim)\n",
    "\n",
    "        self.rnn = torch.nn.RNN(input_size, hidden_size, num_layers, nonlinearity='tanh')\n",
    "\n",
    "        self.decoder = torch.nn.Linear(hidden_size, output_size)\n",
    "\n",
    "    def forward(self, input_seq, hidden_state):\n",
    "\n",
    "        embedding = self.embedding(input_seq)\n",
    "\n",
    "        output, hidden_state = self.rnn(embedding, hidden_state)\n",
    "\n",
    "        output = self.decoder(output)\n",
    "\n",
    "        return output, hidden_state.detach()\n",
    "    \n",
    "# Define model\n",
    "\n",
    "model = myRNNModel(num_embeddings= 10, embedding_dim= 30, input_size= 30, hidden_size= 128, num_layers= 1, output_size= 10)\n"
   ]
  }
 ],
 "metadata": {
  "kernelspec": {
   "display_name": "env",
   "language": "python",
   "name": "python3"
  },
  "language_info": {
   "codemirror_mode": {
    "name": "ipython",
    "version": 3
   },
   "file_extension": ".py",
   "mimetype": "text/x-python",
   "name": "python",
   "nbconvert_exporter": "python",
   "pygments_lexer": "ipython3",
   "version": "3.10.8"
  },
  "orig_nbformat": 4
 },
 "nbformat": 4,
 "nbformat_minor": 2
}
