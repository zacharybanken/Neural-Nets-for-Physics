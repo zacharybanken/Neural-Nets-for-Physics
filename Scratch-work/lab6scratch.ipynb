{
 "cells": [
  {
   "cell_type": "code",
   "execution_count": 1,
   "metadata": {},
   "outputs": [],
   "source": [
    "import torch\n",
    "import numpy as np\n",
    "import matplotlib.pyplot as plt"
   ]
  },
  {
   "cell_type": "code",
   "execution_count": 2,
   "metadata": {},
   "outputs": [],
   "source": [
    "def generate_noisy_signal(datapoints_num, tf):\n",
    "\n",
    "    t = np.linspace(0, tf, datapoints_num)\n",
    "    y = np.sin(t) + np.random.normal(0, 0.1, datapoints_num)\n",
    "\n",
    "    return y.reshape(-1, 1)"
   ]
  },
  {
   "cell_type": "code",
   "execution_count": 3,
   "metadata": {},
   "outputs": [],
   "source": [
    "def generate_input_output_seqs(y, encoder_inputseq_len, decoder_inputseq_len, stride = 1, num_features = 1):\n",
    "\n",
    "    L = y.shape[0]\n",
    "    num_samples = (L - encoder_inputseq_len - decoder_inputseq_len) // stride + 1\n",
    "\n",
    "    train_input_seq = np.zeros((num_samples, encoder_inputseq_len, num_features))\n",
    "    train_output_seq = np.zeros((num_samples, decoder_inputseq_len, num_features))\n",
    "\n",
    "    for ff in np.arange(num_features):\n",
    "        for ii in np.arange(num_samples):\n",
    "            \n",
    "            start_x = ii * stride\n",
    "            end_x = start_x + encoder_inputseq_len\n",
    "            train_input_seq[ii, :, ff] = y[start_x:end_x, ff]\n",
    "\n",
    "            start_y = stride * ii + encoder_inputseq_len\n",
    "            end_y = start_y + decoder_inputseq_len\n",
    "            train_output_seq[ii, :, ff] = y[start_y:end_y, ff]\n",
    "\n",
    "    return train_input_seq, train_output_seq"
   ]
  },
  {
   "cell_type": "code",
   "execution_count": 4,
   "metadata": {},
   "outputs": [],
   "source": [
    "encoder_inputseq_len = 5\n",
    "decoder_inputseq_len = 2\n",
    "testing_seq_len = 50\n",
    "\n",
    "y = generate_noisy_signal(2000, 80 * np.pi)\n",
    "y_train = y[:testing_seq_len]"
   ]
  },
  {
   "cell_type": "code",
   "execution_count": 5,
   "metadata": {},
   "outputs": [],
   "source": [
    "train_input_seq, train_output_seq = generate_input_output_seqs(y_train, encoder_inputseq_len, decoder_inputseq_len)"
   ]
  },
  {
   "cell_type": "code",
   "execution_count": 8,
   "metadata": {},
   "outputs": [],
   "source": [
    "class Encoder(torch.nn.Module):\n",
    "\n",
    "    def __init__(self, input_size, hidden_size, num_layers, dropout):\n",
    "\n",
    "        super(Encoder, self).__init__()\n",
    "\n",
    "        self.lstm = torch.nn.LSTM(input_size = input_size, hidden_size=hidden_size, num_layers=num_layers, \n",
    "                                  batch_first = True)\n",
    "\n",
    "    def forward(self, input_seq, hidden_state):\n",
    "\n",
    "        output, hidden = self.lstm(input_seq, hidden_state)\n",
    "\n",
    "        return output, hidden"
   ]
  },
  {
   "cell_type": "code",
   "execution_count": 9,
   "metadata": {},
   "outputs": [],
   "source": [
    "class Decoder(torch.nn.Module):\n",
    "\n",
    "    def __init__(self, input_size, hidden_size, output_size, num_layers):\n",
    "\n",
    "        super(Decoder, self).__init__()\n",
    "\n",
    "        self.lstm = torch.nn.LSTM(input_size = input_size, hidden_size=hidden_size, num_layers=num_layers, \n",
    "                                  batch_first = True)\n",
    "        self.fc_decoder = torch.nn.Linear(hidden_size, output_size)\n",
    "\n",
    "    def forward(self, input_seq, encoder_hidden_state):\n",
    "\n",
    "        output, hidden = self.lstm(input_seq, encoder_hidden_state)\n",
    "        output = self.fc_decoder(output)\n",
    "\n",
    "        return output, hidden"
   ]
  },
  {
   "cell_type": "code",
   "execution_count": 10,
   "metadata": {},
   "outputs": [],
   "source": [
    "class Encoder_Decoder(torch.nn.Module):\n",
    "\n",
    "    def __init__(self, input_size, hidden_size, decoder_output_size, num_layers):\n",
    "\n",
    "        super(Encoder_Decoder, self).__init__()\n",
    "\n",
    "        self.encoder = Encoder(input_size, hidden_size, num_layers)\n",
    "        self.decoder = Decoder(input_size, hidden_size, decoder_output_size, num_layers)"
   ]
  },
  {
   "cell_type": "code",
   "execution_count": 11,
   "metadata": {},
   "outputs": [],
   "source": []
  },
  {
   "cell_type": "code",
   "execution_count": 15,
   "metadata": {},
   "outputs": [],
   "source": [
    "### Quiz question\n",
    "class Encoder(torch.nn.Module):\n",
    "\n",
    "    def __init__(self, input_size, hidden_size, num_layers):\n",
    "\n",
    "        super(Encoder, self).__init__()\n",
    "\n",
    "        self.gru = torch.nn.GRU(input_size = input_size, hidden_size=hidden_size, \\\n",
    "                                num_layers=num_layers, batch_first = True)\n",
    "\n",
    "    def forward(self, input_seq, hidden_state):\n",
    "\n",
    "        output, hidden = self.gru(input_seq, hidden_state)\n",
    "\n",
    "        return output, hidden\n",
    "    \n",
    "class Decoder(torch.nn.Module):\n",
    "\n",
    "    def __init__(self, input_size, hidden_size, output_size, num_layers):\n",
    "\n",
    "        super(Decoder, self).__init__()\n",
    "\n",
    "        self.gru = torch.nn.GRU(input_size = input_size, hidden_size=hidden_size, num_layers=num_layers, \n",
    "                                  batch_first = True)\n",
    "        self.fc_decoder = torch.nn.Linear(hidden_size, output_size)\n",
    "\n",
    "    def forward(self, input_seq, encoder_hidden_state):\n",
    "\n",
    "        output, hidden = self.lstm(input_seq, encoder_hidden_state)\n",
    "        output = self.fc_decoder(output)\n",
    "\n",
    "        return output, hidden\n",
    "    \n",
    "class Encoder_Decoder(torch.nn.Module):\n",
    "\n",
    "    def __init__(self, input_size, hidden_size, decoder_output_size, num_layers):\n",
    "\n",
    "        super(Encoder_Decoder, self).__init__()\n",
    "\n",
    "        self.encoder = Encoder(input_size, hidden_size, num_layers)\n",
    "        self.decoder = Decoder(input_size, hidden_size, decoder_output_size, num_layers)\n",
    "\n",
    "\n",
    "# parameters\n",
    "input_size = 1\n",
    "hidden_size = 64\n",
    "decoder_output_size = 1\n",
    "num_layers = 1\n",
    "\n",
    "model = Encoder_Decoder(input_size, hidden_size, decoder_output_size, num_layers)"
   ]
  },
  {
   "cell_type": "code",
   "execution_count": null,
   "metadata": {},
   "outputs": [],
   "source": []
  }
 ],
 "metadata": {
  "kernelspec": {
   "display_name": "env",
   "language": "python",
   "name": "python3"
  },
  "language_info": {
   "codemirror_mode": {
    "name": "ipython",
    "version": 3
   },
   "file_extension": ".py",
   "mimetype": "text/x-python",
   "name": "python",
   "nbconvert_exporter": "python",
   "pygments_lexer": "ipython3",
   "version": "3.10.11"
  },
  "orig_nbformat": 4
 },
 "nbformat": 4,
 "nbformat_minor": 2
}
