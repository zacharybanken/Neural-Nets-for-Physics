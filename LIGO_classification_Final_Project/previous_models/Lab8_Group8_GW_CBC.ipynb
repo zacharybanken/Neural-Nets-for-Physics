{
 "cells": [
  {
   "attachments": {},
   "cell_type": "markdown",
   "id": "c76bd7e6",
   "metadata": {},
   "source": [
    "# Lab 8 Report: \n",
    "## FINAL PROJECT STRATEGIC PLANNING"
   ]
  },
  {
   "attachments": {},
   "cell_type": "markdown",
   "id": "3f5ed902",
   "metadata": {},
   "source": [
    "### Lab 8 Instruction: \n",
    "https://canvas.uw.edu/files/106242897/download?download_frd=1"
   ]
  },
  {
   "attachments": {},
   "cell_type": "markdown",
   "id": "0098c149",
   "metadata": {},
   "source": [
    "### Team Members: Zachary Banken, Nia Marwaha, Alexandre Ramirez"
   ]
  },
  {
   "attachments": {},
   "cell_type": "markdown",
   "id": "36869478",
   "metadata": {},
   "source": [
    "### Dataset for your project: GW2_CBC"
   ]
  },
  {
   "attachments": {},
   "cell_type": "markdown",
   "id": "3fe993be",
   "metadata": {},
   "source": [
    "---"
   ]
  },
  {
   "attachments": {},
   "cell_type": "markdown",
   "id": "596ea344",
   "metadata": {},
   "source": [
    "## Understanding the Data"
   ]
  },
  {
   "attachments": {},
   "cell_type": "markdown",
   "id": "53027328",
   "metadata": {},
   "source": [
    "Our data contains four tables, each with dimensions 2048 x 2 x 4096. The first dimension is the number of signal recordings from the instrument, the second dimension indicates whether the signal recording is from the Hanford or Livingston LIGO detectors, and the last dimension contains a time series of the strain (fractional change in arm length) of the detectors. Each element in the matrix measures the strain at that instant of time (measured by the index from 0 to 4096)."
   ]
  },
  {
   "attachments": {},
   "cell_type": "markdown",
   "id": "526dd6ab",
   "metadata": {},
   "source": [
    "## Understanding the Task"
   ]
  },
  {
   "attachments": {},
   "cell_type": "markdown",
   "id": "7cafad17",
   "metadata": {},
   "source": [
    "Our task is to classify a signal recording as either a black hole merger, supernova, glitch, or background."
   ]
  },
  {
   "attachments": {},
   "cell_type": "markdown",
   "id": "f275694a",
   "metadata": {},
   "source": [
    "## Developing an initial plan for your project"
   ]
  },
  {
   "attachments": {},
   "cell_type": "markdown",
   "id": "0bcf2b94",
   "metadata": {},
   "source": [
    "1. Normalization: we will normalize each of the 2048 signal recordings seperately.\n",
    "\n",
    "\n",
    "2.  a. Compute spectrogram: use scipy spectrogram function to get a spectrogram matrix for each signal recording.\n",
    "\n",
    "\n",
    "    b. Reshape matrices to conform to CNN input. We can use 2 channels for the 2 detectors at Hanford and Livingston.\n",
    "\n",
    "\n",
    "3. Use CNN to classify spectrograms to the four categories. This model will be similar to the one used for clothes. \n",
    "    a. Tune hyperparameters and spectrograms, repeat until the model performs well."
   ]
  },
  {
   "attachments": {},
   "cell_type": "markdown",
   "id": "b00aaede",
   "metadata": {},
   "source": []
  }
 ],
 "metadata": {
  "kernelspec": {
   "display_name": "Python 3 (ipykernel)",
   "language": "python",
   "name": "python3"
  },
  "language_info": {
   "codemirror_mode": {
    "name": "ipython",
    "version": 3
   },
   "file_extension": ".py",
   "mimetype": "text/x-python",
   "name": "python",
   "nbconvert_exporter": "python",
   "pygments_lexer": "ipython3",
   "version": "3.10.7"
  }
 },
 "nbformat": 4,
 "nbformat_minor": 5
}
