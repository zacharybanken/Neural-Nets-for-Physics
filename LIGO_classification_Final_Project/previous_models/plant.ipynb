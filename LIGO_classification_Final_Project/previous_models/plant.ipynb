{
 "cells": [
  {
   "cell_type": "code",
   "execution_count": 14,
   "metadata": {},
   "outputs": [],
   "source": [
    "import numpy as np\n",
    "import matplotlib.pyplot as plt\n",
    "from mpl_toolkits.mplot3d import Axes3D\n",
    "from numba import jit\n",
    "\n",
    "# Function to check if a point is in the Mandelbulb set\n",
    "@jit(nopython=True)\n",
    "def mandelbulb(z, max_iter, power):\n",
    "    c = z\n",
    "    for i in range(max_iter):\n",
    "        mask = np.abs(z) > 2.0\n",
    "        z[mask] = z[mask] ** power + c[mask]\n",
    "    return np.where(mask, i, max_iter)\n",
    "\n",
    "# Define the parameters for the Mandelbulb\n",
    "width, height = 800, 800\n",
    "max_iter = 16\n",
    "power = 8\n",
    "zoom = 1.0\n",
    "x_min, x_max = -2.0, 2.0\n",
    "y_min, y_max = -2.0, 2.0\n",
    "z_min, z_max = -2.0, 2.0\n",
    "\n",
    "# Generate the coordinates of the 3D Mandelbulb\n",
    "x_vals = np.linspace(x_min, x_max, width)\n",
    "y_vals = np.linspace(y_min, y_max, height)\n",
    "z_vals = np.linspace(z_min, z_max, height)\n",
    "\n",
    "xx, yy, zz = np.meshgrid(x_vals, y_vals, z_vals)\n",
    "coords = xx + 1j * yy + 1j * zz\n",
    "\n",
    "# Flatten the coordinates to a 1D array\n",
    "coords_flat = coords.ravel()\n",
    "\n",
    "# Compute the Mandelbulb set\n",
    "mandelbulb_set = mandelbulb(coords_flat, max_iter, power)\n",
    "\n",
    "# Reshape the Mandelbulb set back to 3D\n",
    "mandelbulb_set = mandelbulb_set.reshape(coords.shape)\n",
    "\n",
    "# Plotting the 3D Mandelbulb\n",
    "fig = plt.figure()\n",
    "ax = fig.add_subplot(111, projection='3d')\n",
    "ax.voxels(xx, yy, zz, mandelbulb_set < max_iter, facecolors='b', edgecolors='k')\n",
    "\n",
    "# Set the plot limits and labels\n",
    "ax.set_xlim(x_min, x_max)\n",
    "ax.set_ylim(y_min, y_max)\n",
    "ax.set_zlim(z_min, z_max)\n",
    "ax.set_xlabel('X')\n",
    "ax.set_ylabel('Y')\n",
    "ax.set_zlabel('Z')\n",
    "\n",
    "# Show the 3D plot\n",
    "plt.show()\n"
   ]
  },
  {
   "cell_type": "code",
   "execution_count": null,
   "metadata": {},
   "outputs": [],
   "source": []
  }
 ],
 "metadata": {
  "kernelspec": {
   "display_name": "env",
   "language": "python",
   "name": "python3"
  },
  "language_info": {
   "codemirror_mode": {
    "name": "ipython",
    "version": 3
   },
   "file_extension": ".py",
   "mimetype": "text/x-python",
   "name": "python",
   "nbconvert_exporter": "python",
   "pygments_lexer": "ipython3",
   "version": "3.10.11"
  },
  "orig_nbformat": 4
 },
 "nbformat": 4,
 "nbformat_minor": 2
}
